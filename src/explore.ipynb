{
 "cells": [
  {
   "cell_type": "code",
   "execution_count": null,
   "metadata": {},
   "outputs": [],
   "source": [
    "import torch\n",
    "from models import AMCLSimCLRModel"
   ]
  },
  {
   "cell_type": "code",
   "execution_count": null,
   "metadata": {},
   "outputs": [],
   "source": [
    "# Assuming the AMCLSimCLRModel, MultiHeadProjector, and AdaptiveTemperature have already been defined as above.\n",
    "\n",
    "# Initialize a DataLoader for kNN (assuming this is required for benchmarking, you may replace it with your own)\n",
    "dummy_dataloader_kNN = None  # Placeholder, replace with actual DataLoader\n",
    "\n",
    "# Define model parameters\n",
    "epochs = 100  # You can adjust the number of epochs\n",
    "num_heads = 3  # Number of heads for multi-head projection\n",
    "input_dim = 512  # Input feature dimension\n",
    "output_dim = 128  # Output feature dimension (for projection heads)\n",
    "\n",
    "# Create the AMCLSimCLRModel object\n",
    "model = AMCLSimCLRModel(\n",
    "    dataloader_kNN=dummy_dataloader_kNN,\n",
    "    epochs=epochs,\n",
    "    num_heads=num_heads,\n",
    "    input_dim=input_dim,\n",
    "    output_dim=output_dim\n",
    ")\n",
    "\n",
    "# View the model's architecture (optional)\n",
    "print(model)\n",
    "\n",
    "# List the trainable parameters for each layer\n",
    "print(\"\\nTrainable parameters by layer:\")\n",
    "for name, param in model.named_parameters():\n",
    "    if param.requires_grad:\n",
    "        print(f\"{name}: {param.numel()} parameters, shape: {param.shape}\")\n",
    "\n",
    "# View the total number of trainable parameters\n",
    "trainable_params = sum(p.numel() for p in model.parameters() if p.requires_grad)\n",
    "print(f\"\\nTotal number of trainable parameters: {trainable_params}\")\n"
   ]
  }
 ],
 "metadata": {
  "kernelspec": {
   "display_name": "Python 3 (ipykernel)",
   "language": "python",
   "name": "python3"
  },
  "language_info": {
   "codemirror_mode": {
    "name": "ipython",
    "version": 3
   },
   "file_extension": ".py",
   "mimetype": "text/x-python",
   "name": "python",
   "nbconvert_exporter": "python",
   "pygments_lexer": "ipython3",
   "version": "3.9.7"
  }
 },
 "nbformat": 4,
 "nbformat_minor": 2
}
